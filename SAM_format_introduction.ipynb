{
 "cells": [
  {
   "cell_type": "markdown",
   "id": "3f70cc0b",
   "metadata": {},
   "source": [
    "# 🧬 Sequence Alignment Map (SAM) Format Introduction"
   ]
  },
  {
   "cell_type": "markdown",
   "id": "dc1accb4",
   "metadata": {},
   "source": [
    "## 📚 Introduction to the SAM Format\n",
    "\n",
    "The **SAM format** (Sequence Alignment/Map) is a widely used **text-based format** for storing biological sequence alignment data, especially from **next-generation sequencing (NGS)** experiments.  \n",
    "It was developed as part of the **SAMtools** project to efficiently handle **large volumes of sequence reads aligned** to a reference genome."
   ]
  },
  {
   "cell_type": "markdown",
   "id": "214c22c0",
   "metadata": {},
   "source": [
    "---\n",
    "\n",
    "## 📂 Structure of a SAM File\n",
    "\n",
    "Each line in a SAM file represents one read and its alignment information.  \n",
    "A SAM file consists of two parts:\n",
    "\n",
    "- **Header Section (optional)**:  \n",
    "  Lines beginning with `@` that describe metadata like reference sequences (`@SQ`) and program versions (`@PG`).\n",
    "  \n",
    "- **Alignment Section**:  \n",
    "  A table where each row describes one read, with fields separated by **tabs**."
   ]
  },
  {
   "cell_type": "markdown",
   "id": "d53bb6eb",
   "metadata": {},
   "source": [
    "---\n",
    "\n",
    "## 🔑 Main Fields in a SAM Alignment Entry\n",
    "\n",
    "The **11 mandatory fields** are:\n",
    "\n",
    "| Field | Description |\n",
    "|:-----|:------------|\n",
    "| QNAME | Query (read) name |\n",
    "| FLAG | Bitwise flag describing the read status (e.g., paired, mapped, reversed) |\n",
    "| RNAME | Reference sequence name (e.g., chromosome) |\n",
    "| POS | 1-based leftmost position of clipped alignment |\n",
    "| MAPQ | Mapping quality score |\n",
    "| CIGAR | Compact representation of alignment (matches, insertions, deletions) |\n",
    "| RNEXT | Reference name of the mate/next read |\n",
    "| PNEXT | Position of the mate/next read |\n",
    "| TLEN | Observed Template Length |\n",
    "| SEQ | Sequence of the read |\n",
    "| QUAL | Base quality scores |"
   ]
  },
  {
   "cell_type": "markdown",
   "id": "ca4b88bf",
   "metadata": {},
   "source": [
    "---\n",
    "\n",
    "### 🧙‍♀️ Example SAM Line"
   ]
  },
  {
   "cell_type": "code",
   "execution_count": null,
   "id": "e035acad",
   "metadata": {},
   "outputs": [],
   "source": [
    "#read123\t0\tchr1\t100\t255\t4M\t*\t0\t0\tACTG\tIIII"
   ]
  },
  {
   "cell_type": "markdown",
   "id": "2cf2cc45",
   "metadata": {},
   "source": [
    "---\n",
    "\n",
    "## 📦 SAM vs BAM\n",
    "\n",
    "- **SAM**: Text-based, human-readable.\n",
    "- **BAM**: Binary version of SAM. Compressed for efficient storage and fast access."
   ]
  },
  {
   "cell_type": "markdown",
   "id": "6f651421",
   "metadata": {},
   "source": [
    "# 🧵 The CIGAR String\n",
    "\n",
    "The **CIGAR** string describes how the read aligns with the reference genome:\n",
    "\n",
    "- Events are **length + type**.\n",
    "- Common event types:\n",
    "  - `M`: Match (can be sequence match or mismatch)\n",
    "  - `I`: Insertion to the reference\n",
    "  - `D`: Deletion from the reference\n",
    "  - `S`: Soft clipping (clipped sequences present in SEQ)\n",
    "  - `H`: Hard clipping (clipped sequences NOT present in SEQ)"
   ]
  },
  {
   "cell_type": "markdown",
   "id": "d18548f8",
   "metadata": {},
   "source": [
    "---\n",
    "\n",
    "### ✏️ Example: CIGAR String Explained"
   ]
  },
  {
   "cell_type": "code",
   "execution_count": null,
   "id": "7dd98f80",
   "metadata": {},
   "outputs": [],
   "source": [
    "# CIGAR: 10M1I5M5D10M\n",
    "\n",
    "# 10 matches\n",
    "# 1 inserted base (in read, not in reference)\n",
    "# 5 matches\n",
    "# 5 deleted bases (present in reference, not read)\n",
    "# 10 matches"
   ]
  },
  {
   "cell_type": "markdown",
   "id": "7185cb46",
   "metadata": {},
   "source": [
    "> ⚡ Note: **Deletions** cannot be directly shown in the SEQ field — they are indicated separately, e.g., using **MD tags**. The MD tag is not a default tag and must be actively integrated. It is especially useful when the reference should be reconstructed using only the SAM file."
   ]
  },
  {
   "cell_type": "markdown",
   "id": "899eb20e",
   "metadata": {},
   "source": [
    "# 🧬 Nucleotide Modification Tags (MM/ML)\n",
    "\n",
    "In **Oxford Nanopore Technologies (ONT)** data, SAM/BAM formats are enhanced to store additional biological information like **base modifications**.\n",
    "\n",
    "**Base modifications** are stored using two special tags:\n",
    "\n",
    "- **MM (Modified Bases)**: Lists which bases are modified and where.\n",
    "- **ML (Modification Likelihoods)**: Lists probabilities of modifications."
   ]
  },
  {
   "cell_type": "markdown",
   "id": "70436860",
   "metadata": {},
   "source": [
    "---\n",
    "\n",
    "### 🔎 Example with MM and ML Tags"
   ]
  },
  {
   "cell_type": "code",
   "execution_count": null,
   "id": "92f9c42a",
   "metadata": {},
   "outputs": [],
   "source": [
    "#read123\t0\tchr1\t100\t255\t4M\t*\t0\t0\tACTG\tIIII\tMM:Z:C+m,5,2,1; ML:B:C,200,180,150"
   ]
  },
  {
   "cell_type": "markdown",
   "id": "b19e4c0a",
   "metadata": {},
   "source": [
    "**MM Tag**:  \n",
    "- `MM:Z:C+m,5,2,1;`\n",
    "- Meaning:\n",
    "  - Modified base: Cytosine (`C`)\n",
    "  - Modification type: `+m` (e.g., methylation)\n",
    "  - Modified positions:\n",
    "    - 6th `C`\n",
    "    - After 2 more `C`s\n",
    "    - After 1 more `C`\n",
    "\n",
    "**ML Tag**:  \n",
    "- `ML:B:C,200,180,150`\n",
    "- Meaning:\n",
    "  - Probabilities:\n",
    "    - 200/255 ≈ 78%\n",
    "    - 180/255 ≈ 70%\n",
    "    - 150/255 ≈ 59%"
   ]
  },
  {
   "cell_type": "markdown",
   "id": "5656045a",
   "metadata": {},
   "source": [
    "> ⚡ Tip: Probabilities are stored as 8-bit integers (0–255)."
   ]
  },
  {
   "cell_type": "markdown",
   "id": "323db83a",
   "metadata": {},
   "source": [
    "# 🛠️ Tools for Handling SAM/BAM Files\n",
    "\n",
    "| Tool | Description |\n",
    "|:----|:------------|\n",
    "| **samtools** | Command-line tool for general operations: sort, index, filter, summarize |\n",
    "| **pysam** | Python package for fine-grained read manipulation (e.g., analyzing base modifications) |\n",
    "| **IGV (Integrative Genomics Viewer)** | GUI to visualize alignments, detect systematic errors like indels, coverage issues, or structural variants |"
   ]
  },
  {
   "cell_type": "markdown",
   "id": "d1adec4c",
   "metadata": {},
   "source": [
    "---\n",
    "\n",
    "# 📖 Further Documentation\n",
    "\n",
    "- **SAM Format Specification**:  \n",
    "  👉 [https://samtools.github.io/hts-specs/SAMv1.pdf](https://samtools.github.io/hts-specs/SAMv1.pdf)\n",
    "\n",
    "- **Tags like MM and ML (Extended SAM Tags)**:  \n",
    "  👉 [https://samtools.github.io/hts-specs/SAMtags.pdf](https://samtools.github.io/hts-specs/SAMtags.pdf)\n",
    "  \n",
    "- **Samtools**:  \n",
    "  👉 [https://www.htslib.org/doc/samtools.html](https://www.htslib.org/doc/samtools.html)\n",
    "\n",
    "- **Pysam**:  \n",
    "  👉 [https://pysam.readthedocs.io/en/latest/api.html](https://pysam.readthedocs.io/en/latest/api.html)\n",
    "\n",
    "- **IGV**:  \n",
    "  👉 [https://igv.org/doc/desktop/](https://igv.org/doc/desktop/)"
   ]
  }
 ],
 "metadata": {
  "kernelspec": {
   "display_name": "Python 3",
   "language": "python",
   "name": "python3"
  },
  "language_info": {
   "name": "python",
   "version": "3.x"
  }
 },
 "nbformat": 4,
 "nbformat_minor": 5
}
