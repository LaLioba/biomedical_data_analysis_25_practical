{
 "cells": [
  {
   "cell_type": "markdown",
   "id": "3f70cc0b",
   "metadata": {},
   "source": [
    "# 🧬 Sequence Alignment Map (SAM) Format Introduction"
   ]
  },
  {
   "cell_type": "markdown",
   "id": "dc1accb4",
   "metadata": {},
   "source": [
    "## 📚 Introduction to the SAM Format\n",
    "\n",
    "The **SAM format** (Sequence Alignment/Map) is a widely used **text-based format** for storing biological sequence alignment data, especially from **next-generation sequencing (NGS)** experiments.  \n",
    "It was developed as part of the **SAMtools** project to efficiently handle **large volumes of sequence reads aligned** to a reference genome."
   ]
  },
  {
   "cell_type": "markdown",
   "id": "214c22c0",
   "metadata": {},
   "source": [
    "---\n",
    "\n",
    "## 📂 Structure of a SAM File\n",
    "\n",
    "Each line in a SAM file represents one read and its alignment information.  \n",
    "A SAM file consists of two parts:\n",
    "\n",
    "- **Header Section (optional)**:  \n",
    "  Lines beginning with `@` that describe metadata like reference sequences (`@SQ`) and program versions (`@PG`).\n",
    "  \n",
    "- **Alignment Section**:  \n",
    "  A table where each row describes one read, with fields separated by **tabs**."
   ]
  },
  {
   "cell_type": "markdown",
   "id": "d53bb6eb",
   "metadata": {},
   "source": [
    "---\n",
    "\n",
    "## 🔑 Main Fields in a SAM Alignment Entry\n",
    "\n",
    "The **11 mandatory fields** are:\n",
    "\n",
    "| Field | Description |\n",
    "|:-----|:------------|\n",
    "| QNAME | Query (read) name |\n",
    "| FLAG | Bitwise flag describing the read status (e.g., paired, mapped, reversed) |\n",
    "| RNAME | Reference sequence name (e.g., chromosome) |\n",
    "| POS | 1-based leftmost position of clipped alignment |\n",
    "| MAPQ | Mapping quality score |\n",
    "| CIGAR | Compact representation of alignment (matches, insertions, deletions) |\n",
    "| RNEXT | Reference name of the mate/next read |\n",
    "| PNEXT | Position of the mate/next read |\n",
    "| TLEN | Observed Template Length |\n",
    "| SEQ | Sequence of the read |\n",
    "| QUAL | Base quality scores |"
   ]
  },
  {
   "cell_type": "markdown",
   "id": "ca4b88bf",
   "metadata": {},
   "source": [
    "---\n",
    "\n",
    "### 🧙‍♀️ Example SAM Line"
   ]
  },
  {
   "cell_type": "code",
   "execution_count": null,
   "id": "e035acad",
   "metadata": {},
   "outputs": [],
   "source": [
    "#read123\t0\tchr1\t100\t255\t4M\t*\t0\t0\tACTG\tIIII"
   ]
  },
  {
   "cell_type": "markdown",
   "id": "2cf2cc45",
   "metadata": {},
   "source": [
    "---\n",
    "\n",
    "## 📦 SAM vs BAM\n",
    "\n",
    "- **SAM**: Text-based, human-readable.\n",
    "- **BAM**: Binary version of SAM. Compressed for efficient storage and fast access."
   ]
  },
  {
   "cell_type": "markdown",
   "id": "6f651421",
   "metadata": {},
   "source": [
    "# 🧵 The CIGAR String\n",
    "\n",
    "The **CIGAR** string describes how the read aligns with the reference genome:\n",
    "\n",
    "- Events are **length + type**.\n",
    "- Common event types:\n",
    "  - `M`: Match (can be sequence match or mismatch)\n",
    "  - `I`: Insertion to the reference\n",
    "  - `D`: Deletion from the reference\n",
    "  - `S`: Soft clipping (clipped sequences present in SEQ)\n",
    "  - `H`: Hard clipping (clipped sequences NOT present in SEQ)"
   ]
  },
  {
   "cell_type": "markdown",
   "id": "d18548f8",
   "metadata": {},
   "source": [
    "---\n",
    "\n",
    "### ✏️ Example: CIGAR String Explained"
   ]
  },
  {
   "cell_type": "code",
   "execution_count": null,
   "id": "7dd98f80",
   "metadata": {},
   "outputs": [],
   "source": [
    "# CIGAR: 10M1I5M5D10M\n",
    "\n",
    "# 10 matches\n",
    "# 1 inserted base (in read, not in reference)\n",
    "# 5 matches\n",
    "# 5 deleted bases (present in reference, not read)\n",
    "# 10 matches"
   ]
  },
  {
   "cell_type": "markdown",
   "id": "7185cb46",
   "metadata": {},
   "source": [
    "> ⚡ Note: **Deletions** cannot be directly shown in the SEQ field — they are indicated separately, e.g., using **MD tags**. The MD tag is not a default tag and must be actively integrated. It is especially useful when the reference should be reconstructed using only the SAM file."
   ]
  },
  {
   "cell_type": "markdown",
   "id": "899eb20e",
   "metadata": {},
   "source": [
    "# 🧬 Nucleotide Modification Tags (MM/ML)\n",
    "\n",
    "In **Oxford Nanopore Technologies (ONT)** data, SAM/BAM formats are enhanced to store additional biological information like **base modifications**.\n",
    "\n",
    "**Base modifications** are stored using two special tags:\n",
    "\n",
    "- **MM (Modified Bases)**: Lists which bases are modified and where.\n",
    "- **ML (Modification Likelihoods)**: Lists probabilities of modifications."
   ]
  },
  {
   "cell_type": "markdown",
   "id": "70436860",
   "metadata": {},
   "source": [
    "---\n",
    "\n",
    "### 🔎 Example with MM and ML Tags"
   ]
  },
  {
   "cell_type": "code",
   "execution_count": null,
   "id": "92f9c42a",
   "metadata": {},
   "outputs": [],
   "source": [
    "#read123\t0\tchr1\t100\t255\t4M\t*\t0\t0\tACTG\tIIII\tMM:Z:C+m,5,2,1; ML:B:C,200,180,150"
   ]
  },
  {
   "cell_type": "markdown",
   "id": "b19e4c0a",
   "metadata": {},
   "source": [
    "**MM Tag**:  \n",
    "- `MM:Z:C+m,5,2,1;`\n",
    "- Meaning:\n",
    "  - Modified base: Cytosine (`C`)\n",
    "  - Modification type: `+m` (e.g., methylation)\n",
    "  - Modified positions:\n",
    "    - 6th `C`\n",
    "    - After 2 more `C`s\n",
    "    - After 1 more `C`\n",
    "\n",
    "**ML Tag**:  \n",
    "- `ML:B:C,200,180,150`\n",
    "- Meaning:\n",
    "  - Probabilities:\n",
    "    - 200/255 ≈ 78%\n",
    "    - 180/255 ≈ 70%\n",
    "    - 150/255 ≈ 59%"
   ]
  },
  {
   "cell_type": "markdown",
   "id": "5656045a",
   "metadata": {},
   "source": [
    "> ⚡ Tip: Probabilities are stored as 8-bit integers (0–255)."
   ]
  },
  {
   "cell_type": "markdown",
   "id": "323db83a",
   "metadata": {},
   "source": [
    "# 🛠️ Tools for Handling SAM/BAM Files\n",
    "\n",
    "| Tool | Description |\n",
    "|:----|:------------|\n",
    "| **samtools** | Command-line tool for general operations: sort, index, filter, summarize |\n",
    "| **pysam** | Python package for fine-grained read manipulation (e.g., analyzing base modifications) |\n",
    "| **Modkit** | Oxford Nanopore Technologies' command line tool for modification detection and analysis |\n",
    "| **IGV (Integrative Genomics Viewer)** | GUI to visualize alignments, detect systematic errors like indels, coverage issues, or structural variants |"
   ]
  },
  {
   "cell_type": "markdown",
   "id": "d1adec4c",
   "metadata": {},
   "source": [
    "---\n",
    "\n",
    "# 📖 Further Documentation\n",
    "\n",
    "- **SAM Format Specification**:  \n",
    "  👉 [https://samtools.github.io/hts-specs/SAMv1.pdf](https://samtools.github.io/hts-specs/SAMv1.pdf)\n",
    "\n",
    "- **Tags like MM and ML (Extended SAM Tags)**:  \n",
    "  👉 [https://samtools.github.io/hts-specs/SAMtags.pdf](https://samtools.github.io/hts-specs/SAMtags.pdf)\n",
    "  \n",
    "- **Samtools**:  \n",
    "  👉 [https://www.htslib.org/doc/samtools.html](https://www.htslib.org/doc/samtools.html)\n",
    "\n",
    "- **Pysam**:  \n",
    "  👉 [https://pysam.readthedocs.io/en/latest/api.html](https://pysam.readthedocs.io/en/latest/api.html)\n",
    "\n",
    "- **Modkit**:  \n",
    "  👉 [https://nanoporetech.github.io/modkit/](https://nanoporetech.github.io/modkit/)\n",
    "\n",
    "- **IGV**:  \n",
    "  👉 [https://igv.org/doc/desktop/](https://igv.org/doc/desktop/)"
   ]
  },
  {
   "cell_type": "markdown",
   "id": "1aacab97",
   "metadata": {},
   "source": [
    "--- \n",
    "\n",
    "# Cheat sheet samtools functionalities\n",
    "\n",
    "Samtools is a command line based tool to visaulize summarize and manipulate SAM and BAM files.\n",
    "\n",
    "- **View SAM/BAM bamfile**:\n",
    "    - 👉 samtools view [options] <in.bam>|<in.sam>|<in.cram> [region ...] > [out.bam]\n",
    "    - 👉 samtools view --help (Open Manual)\n",
    "    - 👉 Check the manual for possible filter methods. Especially the flags -F and -f can be very helpful, to filter SAM/BAM files for reads with specific properties. \n",
    "    - 👉 Ensure to set the falgs -h and -b to include headers and produce a binary data output\n",
    "    - 👉 Check [https://broadinstitute.github.io/picard/explain-flags.html](https://broadinstitute.github.io/picard/explain-flags.html) to play with possible filter options. \n",
    "    \n",
    "- **Sort SAM/BAMbamfile**:\n",
    "    - 👉 samtools sort [options...] [in.bam] > [out.bam]\n",
    "    - 👉 samtools sort --help (To open Manual)\n",
    "    - 👉 Many downstream analysis tools require sorted SAM/BAM files. The default sorts read by read length in a descending manner. \n",
    "\n",
    "- **Index SAM/BAM file**:\n",
    "    - 👉 samtools index [in.bam]\n",
    "    - 👉 samtools index --help\n",
    "    - 👉 Indexing the SAM/BAM file is necessary to visualize the alignment with a genome viewer like IGV.\n",
    "\n",
    "- **Summarize the alignment file**:\n",
    "    - 👉 samtools stats [OPTIONS] file.bam\n",
    "    - 👉 samtools stats --help\n",
    "    - 👉 Summarizes how many reads align on different chromosomes of the reference.\n",
    "\n",
    "- **Index fasta files**:\n",
    "    - 👉 samtools faidx [in.bam]\n",
    "    - 👉 samtools faidx --help\n",
    "    - 👉 IGV additionally needs indexed reference files in fasta format for visualization. \n",
    "    \n"
   ]
  },
  {
   "cell_type": "markdown",
   "id": "5845c9bc",
   "metadata": {},
   "source": [
    "---\n",
    "# Cheat sheet pysam\n",
    "In contrast to samtools pysam is a python libraries to operate on SAM/BAM file format. It allows to operate on reads in a single nucleotide resolution manner. \n",
    "In pysam reads are accessed with a for loop. A BAM file must be indexed before it can be manipulated with pysam. "
   ]
  },
  {
   "cell_type": "code",
   "execution_count": null,
   "id": "67795ed3",
   "metadata": {},
   "outputs": [],
   "source": [
    "\n",
    "import pysam\n",
    "from pathlib import Path\n",
    "\n",
    "#Define a path\n",
    "bamfile_path = Path(\"./test_data/test.bam\")\n",
    "\n",
    "#Initialize the bamfile \n",
    "bamfile = pysam.AlignmentFile(bamfile_path, mode=\"rb\")\n",
    "\n",
    "#Initialize a second BAM/SAM file if you want to write on it\n",
    "\n",
    "\n",
    "#Run the for loop \n",
    "for read in bamfile.fetch(until_eof=True):\n",
    "    \n",
    "    #Print the read id \n",
    "    print(\"###Read id###\")\n",
    "    print(read.query_name)\n",
    "    print(\"\\n\")\n",
    "    \n",
    "    #Access the query sequence of the read\n",
    "    print(\"###Sequence###\")\n",
    "    print(read.query_sequence[0:100]) #First 100 nucleotides only\n",
    "    print(\"\\n\")\n",
    "    \n",
    "    #Access Cigartstring or a tuple version of the CIGAR string\n",
    "    print(\"###Cigatsring###\")\n",
    "    print(read.cigarstring[0:100]) #First 100 operations only\n",
    "    print(\"\\n\")\n",
    "    \n",
    "    print(\"###Cigartuple###\")\n",
    "    print(read.cigartuples[0:100]) #First 100 operations only\n",
    "    print(\"\\n\")\n",
    "    \n",
    "    #Access alignment pairs between query sequence and \n",
    "    print(\"###Aligment pairs between query and reference###\")\n",
    "    print(read.get_aligned_pairs()[0:100]) #First 100 operations only\n",
    "    print(\"\\n\")\n",
    "    \n",
    "    #Access read length\n",
    "    print(\"###Query Length###\")\n",
    "    print(read.query_length)\n",
    "    print(\"\\n\")\n",
    "    \n",
    "    #Access available modification information\n",
    "    print(\"###Modified bases###\")\n",
    "    print(read.modified_bases)\n",
    "    print(\"\\n\")\n",
    "    #The output of moddified bases is a dictionary, which carries a key being composed of three parts ('Modified Nucleotide',0,'Modification identifier')\n",
    "    #The value of the values in the dictionary is a list which stores the following information in tuples: (position_on_query, modification_probability)\n",
    "    #The modification probability is stored as a number between 0-256 (8-bit integer), which corresponds to a probability between 0-100%\n",
    "    #To align all modifications to the reference, one needs to transfer the position on the query to th position on the reference.\n",
    "    #The latter can be achieved by using the get_aligned_pairs function in combination with the modified_bases variable as shown below. \n",
    "    aligned_pairs = read.get_aligned_pairs(with_seq=True)\n",
    "    alignment_dict = {}\n",
    "    for pair_element in aligned_pairs:\n",
    "        if None not in pair_element:\n",
    "            alignment_dict[pair_element[0]] = {\"index_query\":pair_element[0],\"index_reference\":pair_element[1]}\n",
    "    #The transfer of the position on the reference can then be executed\n",
    "    modification_object = read.modified_bases\n",
    "    if modification_object != None:\n",
    "        m6a_modifications_on_read = list(modification_object[('A', 0, 'a')])\n",
    "        for m6a_modification in m6a_modifications_on_read: #m6a modification is the tuple element (position_on_query, modification_probability) \n",
    "            try:\n",
    "                index_on_reference = alignment_dict[m6a_modification[0]][\"index_reference\"]\n",
    "                probability_of_modification = m6a_modification[1] / 256\n",
    "                print(\"Reference index:\\n\",index_on_reference,\"\\n\", \"Probability of modification:\\n\",probability_of_modification)\n",
    "                #We will print only one base on this read for didactic reasons\n",
    "                break\n",
    "            except KeyError:\n",
    "                continue\n",
    "    #Explore the pysam documentation for more functions\n",
    "    break\n",
    "bamfile.close()"
   ]
  },
  {
   "cell_type": "markdown",
   "id": "1e6470cc",
   "metadata": {},
   "source": [
    "---\n",
    "# Cheat sheet modkit\n",
    "Fortunately there are tools like Oxford Nanopore Technologies' modkit, which already automatize such an extraction. The tool uses a rust library called htslib, which has similar functionalities to pysam, but even a bit faster.\n",
    "With Modkit the extraction about modification information is automatized and wrapped into a handy command line tool. \n",
    "\n",
    "## Modkit pileup\n",
    "\n"
   ]
  },
  {
   "cell_type": "code",
   "execution_count": null,
   "id": "6186f2e1",
   "metadata": {},
   "outputs": [],
   "source": [
    "import os\n",
    "#Modkit pileup creates a bed file with modification information\n",
    "bashCommand = \"modkit pileup --filter-threshold 0.95 ./test_data/test.bam ./test_data/test_pileup.bed --log-filepath test_data/test.log\"\n",
    "os.system(bashCommand)\n",
    "#The bed file can be read with pandas\n",
    "import pandas as pd\n",
    "bed_df = pd.read_csv(\"test_data/test_pileup.bed\", sep=\"\\t\", header=None)\n",
    "bed_df.columns = [\"chromosome\",\n",
    "                  \"start_position\",\n",
    "                  \"end_position\",\n",
    "                  \"modified_base_code_and_motif\",\n",
    "                  \"score\",\n",
    "                  \"strand\",\n",
    "                  \"start_position_again\",\n",
    "                  \"end_position_again\",\n",
    "                  \"color\", \n",
    "                  \"Nvalid_cov\", \n",
    "                  \"percent_modified\",\n",
    "                  \"Nmod\",\n",
    "                  \"Ncanonical\",\n",
    "                  \"Nother_mod\",\n",
    "                  \"Ndelete\",\n",
    "                  \"Nfail\",\n",
    "                  \"Ndiff\",\n",
    "                  \"Nnocall\"]\n",
    "#Print the first 5 lines of the bed file\n",
    "print(bed_df.head())\n",
    "\n",
    "#Please check all the options modkit pileup offers. \n",
    "#You can use different filter settings, which can tremendously \n",
    "# change the outcome of your analysis. "
   ]
  },
  {
   "cell_type": "markdown",
   "id": "8ad1dcc7",
   "metadata": {},
   "source": [
    "The generated Bedfile is a tab separated table carrying the following information:\n",
    "\n"
   ]
  },
  {
   "cell_type": "code",
   "execution_count": null,
   "id": "962e5e94",
   "metadata": {},
   "outputs": [],
   "source": [
    "#chromomose  start_position  end_position  modified_base_code_and_motif  score strand start_position end_position color Nvalid_cov percent_modified Nmod Ncanonical Nother_mod Ndelete Nfail Ndiff Nnocall"
   ]
  },
  {
   "cell_type": "markdown",
   "id": "371c811e",
   "metadata": {},
   "source": [
    "\n",
    "\n",
    "Definitions:\n",
    "- Nmod - Number of calls passing filters that were classified as a residue with a specified base modification.\n",
    "- Ncanonical - Number of calls passing filters were classified as the canonical base rather\n",
    "than modified. The exact base must be inferred by the modification code. For example, if the modification code is m (5mC) then the canonical base is cytosine. If the modification code is a , the canonical base is adenine.\n",
    "- Nother mod - Number of calls passing filters that were classified as modified, but where\n",
    "the modification is different from the listed base (and the corresponding canonical base is equal). For example, for a given cytosine there may be 3 reads with h calls, 1 with a canonical call, and 2 with m calls. In the bedMethyl row for h Nother_mod would\n",
    "be 2. In the m row Nother_mod would be 3.\n",
    "- Nvalid_cov - the valid coverage. Nvalid_cov = Nmod + Nother_mod + Ncanonical, also used as the score in the bedMethyl\n",
    "- Ndiff - Number of reads with a base other than the canonical base for this modification. For example, in a row for h the canonical base is cytosine, if there are 2 reads with C-A substitutions, Ndiff will be 2.\n",
    "- Ndelete - Number of reads with a deletion at this reference position\n",
    "- Nfail - Number of calls where the probability of the call was below the threshold. The\n",
    "threshold can be set on the command line or computed from the data (usually failing\n",
    "the lowest 10th percentile of calls).\n",
    "- Nnocall - Number of reads aligned to this reference position, with the correct canonical\n",
    "base, but without a base modification call. This can happen, for example, if the model requires a CpG dinucleotide and the read has a CG->CH substitution such that no modification call was produced by the basecaller.\n"
   ]
  },
  {
   "cell_type": "markdown",
   "id": "97357b0b",
   "metadata": {},
   "source": [
    "## Modkit summary\n",
    "\n",
    "The modkit summary sub-command is intended for collecting read-level statistics on either a sample of reads, a region, or an entire modBam. It is important to note that the default behavior of modkit summary is to take a sample of the reads to get a quick estimate."
   ]
  },
  {
   "cell_type": "code",
   "execution_count": null,
   "id": "e3d653be",
   "metadata": {},
   "outputs": [],
   "source": [
    "import os\n",
    "bashCommand = \"modkit summary ./test_data/test.bam > ./test_data/test_summary.tsv\"\n",
    "os.system(bashCommand)"
   ]
  },
  {
   "cell_type": "markdown",
   "id": "33f8343e",
   "metadata": {},
   "source": [
    "# Additional important python libraries\n",
    "\n",
    "Above we gave you all the information and tools you will need to solve the following investigations. You might also need to use some standard python tools like pandas, numpy and matplotlib to manipulate tables and plot some nice figures. \n",
    "Please visit the following documentations to get familiar with these libraries.\n",
    "\n",
    "- **pandas**:  \n",
    "  👉 [https://pandas.pydata.org/docs/user_guide/10min.html](https://pandas.pydata.org/docs/user_guide/10min.html)\n",
    "\n",
    "- **numpy**:  \n",
    "  👉 [https://numpy.org/devdocs/](https://numpy.org/devdocs/)\n",
    "  \n",
    "- **matplotlib**:  \n",
    "  👉 [https://matplotlib.org/stable/api/pyplot_summary.html](https://matplotlib.org/stable/api/pyplot_summary.html)"
   ]
  },
  {
   "cell_type": "markdown",
   "id": "f1270e0f",
   "metadata": {},
   "source": [
    "## Cheat sheet matplotlib"
   ]
  },
  {
   "cell_type": "code",
   "execution_count": null,
   "id": "0175106b",
   "metadata": {},
   "outputs": [],
   "source": [
    "import matplotlib.pyplot as plt\n",
    "\n",
    "x = [1,2,3,4,5,6,7,8,9]\n",
    "\n",
    "y = [0.1,0.2,0.3,0.4,0.5,0.6,0.7,0.8,0.9]\n",
    "\n",
    "y2 = [0.11,0.22,0.33,0.44,0.55,0.66,0.77,0.88,0.99]\n",
    "\n",
    "marker_sizes = [i*20 for i in x]\n",
    "\n",
    "#initiate a figure with one figure\n",
    "fig, ax = plt.subplots(nrows=1,ncols=1)\n",
    "ax.plot(x,y, color = \"green\", label=\"Expectation\")\n",
    "ax.scatter(x=x,y=y2,color = \"blue\",s=marker_sizes,marker=\"*\",label=\"Deviation\")\n",
    "ax.vlines(x=[3,7],ymin=0,ymax=1,colors=\"black\",linestyles=\"--\", label=\"Position of anticipated events\")\n",
    "ax.set_xlabel(\"Different Numbers\")\n",
    "ax.set_ylabel(\"Numbers divided by ten\")\n",
    "\n",
    "ax.legend()\n",
    "\n"
   ]
  },
  {
   "cell_type": "markdown",
   "id": "f5e841af",
   "metadata": {},
   "source": [
    "# Let's gain some experience ourselves !\n",
    "We gathered 3 samples of  a HEK293 control cell line and 3 samples of a UHRR cancer cell line and would like to investigate, if there are any significant changes in the modification landscape of specific cancer risk genes. Therefore, we aligned our datasets to the human reference genome hg38 and filtered the data for known cancer genes. \n",
    "\n",
    "During the course we would like you to select reads aligning to a specific cancer risk gene of your choice and investigate if there are significant changes in modifications at specific positions on those reads. \n",
    "\n",
    "Please notice that we do not know the outcome of these investigations, hence you are at the forefront of these investigations. \n",
    "\n",
    "## Tasks\n",
    "\n",
    "1) Please check out the following link ([https://seafile.rlp.net/d/554453c725a843d5bf05/](https://seafile.rlp.net/d/554453c725a843d5bf05/)) to download the different BAM file samples for the analysis. You should receive 3 HEK293 and 3 UHRR samples in BAM format. Please also download the .bam.bai files, since you will need them for step 3. Additionally you should find a file in bed format, which carries all Exon coordinates of the cancer genes we filtered for.\n",
    "\n",
    "2) Load the bed files as a pandas dataframe and try to find out which genes are included in the bed file. Select a gene of interest and continue with the next step. Please make sure not to take the same gene as other participants of the course. (Hint: try to use pandas unique function to find the names of the different genes)"
   ]
  },
  {
   "cell_type": "code",
   "execution_count": null,
   "id": "08c6eacd",
   "metadata": {},
   "outputs": [],
   "source": [
    "#Insert code for loading the bed reference here"
   ]
  },
  {
   "cell_type": "markdown",
   "id": "52fc7863",
   "metadata": {},
   "source": [
    "\n",
    "3) Open a console and activate the biomedical_practical_SS25 conda environment. Type \"igv\" into the console and a GUI with the integrative genome viewer (IGV) should appear. Select the human genome as reference on igv. Drag and drop the 6 BAM files into the genome viewer application. Once the files are loaded into igv search your gene of interest. (Hint: Check the link above for the documentation of IGV) Have a look on the coverage of the gene. \n",
    "- Does it seems like there is an even coverage ? \n",
    "- Do you observe any changes in coverage on different exons of the gene ? \n",
    "- Is there any systematic change in coverage over the whole construct visible ? \n",
    "- If yes could you make an educated guess, why the changes could occur from a biological point of view ? \n",
    "- Does your selected gene of interest show a reasonable coverage to make statistical predictions on it ? (Hint: Coverage over 20 is fine) \n",
    "- Before you continue make sure your gene has a higher coverage than 20 at a reasonable amount of exons. Not all exons must be necessarily covered well. "
   ]
  },
  {
   "cell_type": "markdown",
   "id": "ec465167",
   "metadata": {},
   "source": [
    "Please provide your answers to the questions here ->"
   ]
  },
  {
   "cell_type": "markdown",
   "id": "b1e39022",
   "metadata": {},
   "source": [
    "4) Retrieve all start an end coordinates fo all exons within you gene of interest. These coordinates ca be found in the dataframe you loaded in task 2. Filter the dataframe and assign the filtered version to a new variable. (Check the pandas documentation to filter dataframes with conditional commands)"
   ]
  },
  {
   "cell_type": "code",
   "execution_count": null,
   "id": "c2cec614",
   "metadata": {},
   "outputs": [],
   "source": [
    "#Insert code for filtering the bed reference here"
   ]
  },
  {
   "cell_type": "markdown",
   "id": "cf57cfcb",
   "metadata": {},
   "source": [
    "5) Run modkit on all 6 samples you downloaded in task 1 and store the output tables on your computer. Use a reasonable filter threshold to obtain the modification ratios. Read the ouput tables of modkit with pandas as shown in the modkit cheat sheet section and assign them to different variables. \n"
   ]
  },
  {
   "cell_type": "code",
   "execution_count": null,
   "id": "fbc735ea",
   "metadata": {},
   "outputs": [],
   "source": [
    "#Insert code to run modkit on the six bamfiles and load the output dataframes. "
   ]
  },
  {
   "cell_type": "markdown",
   "id": "c0919d75",
   "metadata": {},
   "source": [
    "6) Write a function which filters the dataframes to obtain all entries with coordinates covering a gene of interest using the reference bed and the input be file. The function should return the filtered dataframe. Run the function on all six samples.  \n"
   ]
  },
  {
   "cell_type": "code",
   "execution_count": null,
   "id": "a6b1040f",
   "metadata": {},
   "outputs": [],
   "source": [
    "#Insert code to filter your modkit output dataframe for coordinates covering the gene of interest. "
   ]
  },
  {
   "cell_type": "markdown",
   "id": "83710bd7",
   "metadata": {},
   "source": [
    "7) Reconstruct the gene of interest by concatenating the exons of the gene in a reasonable way and plot the modification ratios of the 6 samples as a lineplot with matplotlib. Colorcode the the samples by condition. Try to subsample the plot to positions, which seem to carry a modification over the gene of interest."
   ]
  },
  {
   "cell_type": "code",
   "execution_count": null,
   "id": "bafa8a28",
   "metadata": {},
   "outputs": [],
   "source": [
    "#Insert code to plot general modification ratios of the different samples "
   ]
  },
  {
   "cell_type": "markdown",
   "id": "a13107e4",
   "metadata": {},
   "source": [
    "8) Moreover it would be interesting to discriminate between modification of different types. Annotate the modification types of the different positions and include the information in the plot by using a method of your choice. "
   ]
  },
  {
   "cell_type": "code",
   "execution_count": null,
   "id": "9a5b3d28",
   "metadata": {},
   "outputs": [],
   "source": [
    "#Insert code to annotate different types of modifications on the plot. "
   ]
  }
 ],
 "metadata": {
  "kernelspec": {
   "display_name": "biomedical_practical_SS25",
   "language": "python",
   "name": "python3"
  },
  "language_info": {
   "codemirror_mode": {
    "name": "ipython",
    "version": 3
   },
   "file_extension": ".py",
   "mimetype": "text/x-python",
   "name": "python",
   "nbconvert_exporter": "python",
   "pygments_lexer": "ipython3",
   "version": "3.13.4"
  }
 },
 "nbformat": 4,
 "nbformat_minor": 5
}
