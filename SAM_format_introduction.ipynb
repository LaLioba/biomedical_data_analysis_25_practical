{
 "cells": [
  {
   "cell_type": "markdown",
   "id": "3f70cc0b",
   "metadata": {},
   "source": [
    "# 🧬 Sequence Alignment Map (SAM) Format Introduction"
   ]
  },
  {
   "cell_type": "markdown",
   "id": "dc1accb4",
   "metadata": {},
   "source": [
    "## 📚 Introduction to the SAM Format\n",
    "\n",
    "The **SAM format** (Sequence Alignment/Map) is a widely used **text-based format** for storing biological sequence alignment data, especially from **next-generation sequencing (NGS)** experiments.  \n",
    "It was developed as part of the **SAMtools** project to efficiently handle **large volumes of sequence reads aligned** to a reference genome."
   ]
  },
  {
   "cell_type": "markdown",
   "id": "214c22c0",
   "metadata": {},
   "source": [
    "---\n",
    "\n",
    "## 📂 Structure of a SAM File\n",
    "\n",
    "Each line in a SAM file represents one read and its alignment information.  \n",
    "A SAM file consists of two parts:\n",
    "\n",
    "- **Header Section (optional)**:  \n",
    "  Lines beginning with `@` that describe metadata like reference sequences (`@SQ`) and program versions (`@PG`).\n",
    "  \n",
    "- **Alignment Section**:  \n",
    "  A table where each row describes one read, with fields separated by **tabs**."
   ]
  },
  {
   "cell_type": "markdown",
   "id": "d53bb6eb",
   "metadata": {},
   "source": [
    "---\n",
    "\n",
    "## 🔑 Main Fields in a SAM Alignment Entry\n",
    "\n",
    "The **11 mandatory fields** are:\n",
    "\n",
    "| Field | Description |\n",
    "|:-----|:------------|\n",
    "| QNAME | Query (read) name |\n",
    "| FLAG | Bitwise flag describing the read status (e.g., paired, mapped, reversed) |\n",
    "| RNAME | Reference sequence name (e.g., chromosome) |\n",
    "| POS | 1-based leftmost position of clipped alignment |\n",
    "| MAPQ | Mapping quality score |\n",
    "| CIGAR | Compact representation of alignment (matches, insertions, deletions) |\n",
    "| RNEXT | Reference name of the mate/next read |\n",
    "| PNEXT | Position of the mate/next read |\n",
    "| TLEN | Observed Template Length |\n",
    "| SEQ | Sequence of the read |\n",
    "| QUAL | Base quality scores |"
   ]
  },
  {
   "cell_type": "markdown",
   "id": "ca4b88bf",
   "metadata": {},
   "source": [
    "---\n",
    "\n",
    "### 🧙‍♀️ Example SAM Line"
   ]
  },
  {
   "cell_type": "code",
   "execution_count": null,
   "id": "e035acad",
   "metadata": {},
   "outputs": [],
   "source": [
    "#read123\t0\tchr1\t100\t255\t4M\t*\t0\t0\tACTG\tIIII"
   ]
  },
  {
   "cell_type": "markdown",
   "id": "2cf2cc45",
   "metadata": {},
   "source": [
    "---\n",
    "\n",
    "## 📦 SAM vs BAM\n",
    "\n",
    "- **SAM**: Text-based, human-readable.\n",
    "- **BAM**: Binary version of SAM. Compressed for efficient storage and fast access."
   ]
  },
  {
   "cell_type": "markdown",
   "id": "6f651421",
   "metadata": {},
   "source": [
    "# 🧵 The CIGAR String\n",
    "\n",
    "The **CIGAR** string describes how the read aligns with the reference genome:\n",
    "\n",
    "- Events are **length + type**.\n",
    "- Common event types:\n",
    "  - `M`: Match (can be sequence match or mismatch)\n",
    "  - `I`: Insertion to the reference\n",
    "  - `D`: Deletion from the reference\n",
    "  - `S`: Soft clipping (clipped sequences present in SEQ)\n",
    "  - `H`: Hard clipping (clipped sequences NOT present in SEQ)"
   ]
  },
  {
   "cell_type": "markdown",
   "id": "d18548f8",
   "metadata": {},
   "source": [
    "---\n",
    "\n",
    "### ✏️ Example: CIGAR String Explained"
   ]
  },
  {
   "cell_type": "code",
   "execution_count": null,
   "id": "7dd98f80",
   "metadata": {},
   "outputs": [],
   "source": [
    "# CIGAR: 10M1I5M5D10M\n",
    "\n",
    "# 10 matches\n",
    "# 1 inserted base (in read, not in reference)\n",
    "# 5 matches\n",
    "# 5 deleted bases (present in reference, not read)\n",
    "# 10 matches"
   ]
  },
  {
   "cell_type": "markdown",
   "id": "7185cb46",
   "metadata": {},
   "source": [
    "> ⚡ Note: **Deletions** cannot be directly shown in the SEQ field — they are indicated separately, e.g., using **MD tags**. The MD tag is not a default tag and must be actively integrated. It is especially useful when the reference should be reconstructed using only the SAM file."
   ]
  },
  {
   "cell_type": "markdown",
   "id": "899eb20e",
   "metadata": {},
   "source": [
    "# 🧬 Nucleotide Modification Tags (MM/ML)\n",
    "\n",
    "In **Oxford Nanopore Technologies (ONT)** data, SAM/BAM formats are enhanced to store additional biological information like **base modifications**.\n",
    "\n",
    "**Base modifications** are stored using two special tags:\n",
    "\n",
    "- **MM (Modified Bases)**: Lists which bases are modified and where.\n",
    "- **ML (Modification Likelihoods)**: Lists probabilities of modifications."
   ]
  },
  {
   "cell_type": "markdown",
   "id": "70436860",
   "metadata": {},
   "source": [
    "---\n",
    "\n",
    "### 🔎 Example with MM and ML Tags"
   ]
  },
  {
   "cell_type": "code",
   "execution_count": null,
   "id": "92f9c42a",
   "metadata": {},
   "outputs": [],
   "source": [
    "#read123\t0\tchr1\t100\t255\t4M\t*\t0\t0\tACTG\tIIII\tMM:Z:C+m,5,2,1; ML:B:C,200,180,150"
   ]
  },
  {
   "cell_type": "markdown",
   "id": "b19e4c0a",
   "metadata": {},
   "source": [
    "**MM Tag**:  \n",
    "- `MM:Z:C+m,5,2,1;`\n",
    "- Meaning:\n",
    "  - Modified base: Cytosine (`C`)\n",
    "  - Modification type: `+m` (e.g., methylation)\n",
    "  - Modified positions:\n",
    "    - 6th `C`\n",
    "    - After 2 more `C`s\n",
    "    - After 1 more `C`\n",
    "\n",
    "**ML Tag**:  \n",
    "- `ML:B:C,200,180,150`\n",
    "- Meaning:\n",
    "  - Probabilities:\n",
    "    - 200/255 ≈ 78%\n",
    "    - 180/255 ≈ 70%\n",
    "    - 150/255 ≈ 59%"
   ]
  },
  {
   "cell_type": "markdown",
   "id": "5656045a",
   "metadata": {},
   "source": [
    "> ⚡ Tip: Probabilities are stored as 8-bit integers (0–255)."
   ]
  },
  {
   "cell_type": "markdown",
   "id": "323db83a",
   "metadata": {},
   "source": [
    "# 🛠️ Tools for Handling SAM/BAM Files\n",
    "\n",
    "| Tool | Description |\n",
    "|:----|:------------|\n",
    "| **samtools** | Command-line tool for general operations: sort, index, filter, summarize |\n",
    "| **pysam** | Python package for fine-grained read manipulation (e.g., analyzing base modifications) |\n",
    "| **Modkit** | Oxford Nanopore Technologies' command line tool for modification detection and analysis |\n",
    "| **IGV (Integrative Genomics Viewer)** | GUI to visualize alignments, detect systematic errors like indels, coverage issues, or structural variants |"
   ]
  },
  {
   "cell_type": "markdown",
   "id": "d1adec4c",
   "metadata": {},
   "source": [
    "---\n",
    "\n",
    "# 📖 Further Documentation\n",
    "\n",
    "- **SAM Format Specification**:  \n",
    "  👉 [https://samtools.github.io/hts-specs/SAMv1.pdf](https://samtools.github.io/hts-specs/SAMv1.pdf)\n",
    "\n",
    "- **Tags like MM and ML (Extended SAM Tags)**:  \n",
    "  👉 [https://samtools.github.io/hts-specs/SAMtags.pdf](https://samtools.github.io/hts-specs/SAMtags.pdf)\n",
    "  \n",
    "- **Samtools**:  \n",
    "  👉 [https://www.htslib.org/doc/samtools.html](https://www.htslib.org/doc/samtools.html)\n",
    "\n",
    "- **Pysam**:  \n",
    "  👉 [https://pysam.readthedocs.io/en/latest/api.html](https://pysam.readthedocs.io/en/latest/api.html)\n",
    "\n",
    "- **Modkit**:  \n",
    "  👉 [https://nanoporetech.github.io/modkit/](https://nanoporetech.github.io/modkit/)\n",
    "\n",
    "- **IGV**:  \n",
    "  👉 [https://igv.org/doc/desktop/](https://igv.org/doc/desktop/)"
   ]
  },
  {
   "cell_type": "markdown",
   "id": "1aacab97",
   "metadata": {},
   "source": [
    "--- \n",
    "\n",
    "# Cheat sheet samtools functionalities\n",
    "\n",
    "Samtools is a command line based tool to visaulize summarize and manipulate SAM and BAM files.\n",
    "\n",
    "- **View SAM/BAM bamfile**:\n",
    "    - 👉 samtools view [options] <in.bam>|<in.sam>|<in.cram> [region ...] > [out.bam]\n",
    "    - 👉 samtools view --help (Open Manual)\n",
    "    - 👉 Check the manual for possible filter methods. Especially the flags -F and -f can be very helpful, to filter SAM/BAM files for reads with specific properties. \n",
    "    - 👉 Ensure to set the falgs -h and -b to include headers and produce a binary data output\n",
    "    - 👉 Check [https://broadinstitute.github.io/picard/explain-flags.html](https://broadinstitute.github.io/picard/explain-flags.html) to play with possible filter options. \n",
    "    \n",
    "- **Sort SAM/BAMbamfile**:\n",
    "    - 👉 samtools sort [options...] [in.bam] > [out.bam]\n",
    "    - 👉 samtools sort --help (To open Manual)\n",
    "    - 👉 Many downstream analysis tools require sorted SAM/BAM files. The default sorts read by read length in a descending manner. \n",
    "\n",
    "- **Index SAM/BAM file**:\n",
    "    - 👉 samtools index [in.bam]\n",
    "    - 👉 samtools index --help\n",
    "    - 👉 Indexing the SAM/BAM file is necessary to visualize the alignment with a genome viewer like IGV.\n",
    "\n",
    "- **Summarize the alignment file**:\n",
    "    - 👉 samtools stats [OPTIONS] file.bam\n",
    "    - 👉 samtools stats --help\n",
    "    - 👉 Summarizes how many reads align on different chromosomes of the reference.\n",
    "\n",
    "- **Index fasta files**:\n",
    "    - 👉 samtools faidx [in.bam]\n",
    "    - 👉 samtools faidx --help\n",
    "    - 👉 IGV additionally needs indexed reference files in fasta format for visualization. \n",
    "    \n"
   ]
  },
  {
   "cell_type": "markdown",
   "id": "5845c9bc",
   "metadata": {},
   "source": [
    "---\n",
    "# Cheat sheet pysam\n",
    "In contrast to samtools pysam is a python libraries to operate on SAM/BAM file format. It allows to operate on reads in a single nucleotide resolution manner. \n",
    "In pysam reads are accessed with a for loop. A BAM file must be indexed before it can be manipulated with pysam. "
   ]
  },
  {
   "cell_type": "code",
   "execution_count": 1,
   "id": "67795ed3",
   "metadata": {},
   "outputs": [
    {
     "name": "stdout",
     "output_type": "stream",
     "text": [
      "###Read id###\n",
      "3b24d9c7-d599-48eb-a730-377a79796d50\n",
      "\n",
      "\n",
      "###Sequence###\n",
      "GCGGAGCGAGCCGCCGGGAGGATGTGCGCCGAGCGCCCCGAGCCCCGCGCCGCCGCGCTTTGAGGGCCGCGGGCGAGAGGCACCTCCGCCGCCCCGGAAG\n",
      "\n",
      "\n",
      "###Cigatsring###\n",
      "1S46M3D168M2I45M1I3M1D23M1D59M1D54M1D130M1I17M3I944M3D195M73242N126M181N116M439N104M1D113M2D37M1D11M\n",
      "\n",
      "\n",
      "###Cigartuple###\n",
      "[(4, 1), (0, 46), (2, 3), (0, 168), (1, 2), (0, 45), (1, 1), (0, 3), (2, 1), (0, 23), (2, 1), (0, 59), (2, 1), (0, 54), (2, 1), (0, 130), (1, 1), (0, 17), (1, 3), (0, 944), (2, 3), (0, 195), (3, 73242), (0, 126), (3, 181), (0, 116), (3, 439), (0, 104), (2, 1), (0, 113), (2, 2), (0, 37), (2, 1), (0, 11), (3, 184), (0, 20), (2, 2), (0, 55), (2, 2), (0, 214), (3, 1434), (0, 231), (3, 326), (0, 395), (2, 1), (0, 173), (1, 2), (0, 92), (1, 3), (0, 9), (1, 1), (0, 350), (1, 1), (0, 100), (2, 1), (0, 67), (2, 2), (0, 301), (2, 6), (0, 123), (2, 1), (0, 25), (1, 1), (0, 3), (2, 1), (0, 57), (1, 2), (0, 66), (2, 3), (0, 25), (2, 1), (0, 78), (2, 1), (0, 16), (2, 1), (0, 147), (2, 3), (0, 561), (1, 1), (0, 118), (1, 1), (0, 142), (1, 1), (0, 74), (2, 1), (0, 24), (1, 2), (0, 24), (2, 3), (0, 19), (2, 1), (0, 44), (2, 1), (0, 29), (2, 4), (0, 5), (2, 3), (0, 11), (1, 2), (0, 16)]\n",
      "\n",
      "\n",
      "###Aligment pairs between query and reference###\n",
      "[(0, None), (1, 2228041), (2, 2228042), (3, 2228043), (4, 2228044), (5, 2228045), (6, 2228046), (7, 2228047), (8, 2228048), (9, 2228049), (10, 2228050), (11, 2228051), (12, 2228052), (13, 2228053), (14, 2228054), (15, 2228055), (16, 2228056), (17, 2228057), (18, 2228058), (19, 2228059), (20, 2228060), (21, 2228061), (22, 2228062), (23, 2228063), (24, 2228064), (25, 2228065), (26, 2228066), (27, 2228067), (28, 2228068), (29, 2228069), (30, 2228070), (31, 2228071), (32, 2228072), (33, 2228073), (34, 2228074), (35, 2228075), (36, 2228076), (37, 2228077), (38, 2228078), (39, 2228079), (40, 2228080), (41, 2228081), (42, 2228082), (43, 2228083), (44, 2228084), (45, 2228085), (46, 2228086), (None, 2228087), (None, 2228088), (None, 2228089), (47, 2228090), (48, 2228091), (49, 2228092), (50, 2228093), (51, 2228094), (52, 2228095), (53, 2228096), (54, 2228097), (55, 2228098), (56, 2228099), (57, 2228100), (58, 2228101), (59, 2228102), (60, 2228103), (61, 2228104), (62, 2228105), (63, 2228106), (64, 2228107), (65, 2228108), (66, 2228109), (67, 2228110), (68, 2228111), (69, 2228112), (70, 2228113), (71, 2228114), (72, 2228115), (73, 2228116), (74, 2228117), (75, 2228118), (76, 2228119), (77, 2228120), (78, 2228121), (79, 2228122), (80, 2228123), (81, 2228124), (82, 2228125), (83, 2228126), (84, 2228127), (85, 2228128), (86, 2228129), (87, 2228130), (88, 2228131), (89, 2228132), (90, 2228133), (91, 2228134), (92, 2228135), (93, 2228136), (94, 2228137), (95, 2228138), (96, 2228139)]\n",
      "\n",
      "\n",
      "###Query Length###\n",
      "6253\n",
      "\n",
      "\n",
      "###Modified bases###\n",
      "{('A', 0, 'a'): [(21, 18), (81, 87), (97, 31), (98, 58), (186, 33), (211, 226), (214, 26), (243, 206), (335, 12), (406, 40), (489, 14), (522, 29), (552, 175), (577, 20), (601, 20), (697, 185), (726, 59), (740, 26), (778, 117), (780, 21), (781, 31), (783, 255), (810, 195), (871, 200), (882, 223), (883, 46), (923, 59), (927, 143), (931, 73), (964, 152), (1030, 65), (1073, 85), (1099, 59), (1107, 21), (1143, 13), (1156, 244), (1165, 15), (1185, 17), (1203, 152), (1209, 31), (1215, 12), (1254, 29), (1257, 159), (1261, 33), (1284, 21), (1285, 22), (1297, 193), (1323, 77), (1341, 218), (1360, 92), (1390, 17), (1404, 188), (1405, 30), (1410, 92), (1411, 104), (1412, 78), (1435, 73), (1437, 35), (1440, 188), (1462, 62), (1471, 255), (1482, 201), (1495, 144), (1507, 105), (1513, 138), (1515, 30), (1516, 23), (1560, 54), (1602, 14), (1612, 56), (1665, 13), (1666, 19), (1668, 30), (1669, 96), (1674, 46), (1675, 48), (1716, 55), (1719, 156), (1725, 20), (1730, 15), (1737, 19), (1765, 15), (1773, 12), (1782, 70), (1812, 47), (1887, 42), (1891, 14), (1907, 36), (1909, 27), (1923, 214), (1928, 33), (1932, 15), (1974, 12), (1975, 56), (2002, 34), (2063, 13), (2069, 21), (2073, 18), (2151, 229), (2179, 18), (2184, 109), (2191, 25), (2235, 12), (2244, 36), (2253, 90), (2318, 12), (2326, 30), (2360, 47), (2383, 107), (2386, 42), (2395, 54), (2396, 104), (2397, 26), (2411, 121), (2423, 37), (2425, 28), (2441, 13), (2457, 93), (2465, 169), (2495, 71), (2512, 12), (2521, 83), (2522, 115), (2531, 170), (2545, 153), (2546, 148), (2551, 26), (2552, 12), (2564, 25), (2591, 129), (2593, 44), (2594, 22), (2597, 39), (2604, 36), (2612, 45), (2619, 122), (2648, 77), (2657, 47), (2717, 16), (2723, 119), (2724, 44), (2732, 151), (2744, 150), (2747, 49), (2768, 23), (2828, 16), (2831, 13), (2837, 22), (2843, 19), (2906, 85), (2937, 30), (2939, 228), (2950, 137), (2997, 32), (3006, 13), (3012, 12), (3019, 26), (3028, 17), (3052, 47), (3056, 108), (3065, 255), (3069, 13), (3084, 25), (3091, 15), (3118, 99), (3122, 13), (3140, 17), (3174, 255), (3199, 12), (3212, 28), (3236, 58), (3239, 30), (3240, 19), (3249, 15), (3255, 101), (3256, 85), (3257, 61), (3260, 69), (3270, 32), (3279, 23), (3280, 118), (3282, 46), (3284, 40), (3299, 29), (3308, 228), (3309, 17), (3334, 143), (3361, 42), (3394, 73), (3397, 103), (3411, 18), (3426, 17), (3432, 17), (3440, 16), (3468, 38), (3472, 255), (3474, 30), (3501, 114), (3564, 34), (3570, 100), (3582, 107), (3590, 228), (3592, 29), (3616, 255), (3653, 121), (3666, 71), (3710, 13), (3731, 38), (3795, 255), (3806, 208), (3815, 252), (3817, 191), (3818, 17), (3833, 14), (3867, 13), (3871, 70), (3873, 109), (3880, 255), (3885, 36), (3925, 255), (3937, 93), (3947, 14), (3956, 14), (4016, 15), (4018, 24), (4019, 33), (4022, 15), (4024, 76), (4030, 44), (4034, 20), (4036, 50), (4037, 17), (4038, 238), (4043, 255), (4069, 17), (4084, 37), (4092, 255), (4127, 13), (4130, 142), (4134, 255), (4146, 131), (4155, 15), (4157, 49), (4177, 22), (4197, 17), (4205, 22), (4209, 86), (4210, 50), (4211, 109), (4213, 164), (4222, 46), (4228, 38), (4236, 210), (4237, 20), (4239, 13), (4249, 47), (4256, 13), (4271, 61), (4297, 76), (4300, 57), (4303, 143), (4338, 216), (4340, 240), (4349, 65), (4364, 144), (4365, 219), (4408, 13), (4418, 122), (4419, 169), (4420, 105), (4427, 233), (4429, 63), (4431, 255), (4489, 182), (4513, 13), (4520, 12), (4529, 15), (4536, 14), (4541, 63), (4542, 56), (4543, 98), (4548, 255), (4557, 20), (4563, 14), (4616, 31), (4638, 203), (4661, 12), (4676, 24), (4765, 120), (4769, 135), (4771, 30), (4778, 17), (4787, 29), (4788, 32), (4836, 113), (4842, 98), (4843, 47), (4848, 41), (4887, 73), (4915, 89), (4942, 94), (4960, 35), (5006, 27), (5014, 23), (5040, 76), (5054, 19), (5071, 141), (5096, 24), (5102, 44), (5145, 124), (5157, 80), (5186, 115), (5190, 194), (5199, 12), (5216, 12), (5225, 86), (5231, 206), (5237, 16), (5253, 14), (5265, 76), (5278, 255), (5299, 127), (5329, 54), (5351, 29), (5363, 15), (5364, 24), (5390, 31), (5414, 36), (5450, 200), (5458, 104), (5460, 173), (5469, 15), (5498, 45), (5501, 73), (5502, 120), (5558, 41), (5567, 29), (5574, 12), (5577, 140), (5583, 205), (5589, 12), (5608, 61), (5646, 205), (5650, 255), (5697, 25), (5704, 12), (5705, 53), (5706, 198), (5707, 75), (5708, 70), (5709, 48), (5710, 48), (5729, 54), (5734, 107), (5788, 51), (5800, 19), (5836, 118), (5871, 14), (5894, 16), (5911, 41), (5950, 155), (5973, 14), (5994, 64), (5999, 150), (6002, 110), (6009, 16), (6013, 21), (6037, 18), (6040, 53), (6044, 14), (6070, 29), (6084, 12), (6096, 12), (6097, 52), (6102, 105), (6106, 17), (6131, 129), (6142, 45), (6143, 36), (6168, 44), (6193, 22), (6194, 241), (6216, 13), (6227, 27), (6233, 103), (6234, 160), (6235, 168), (6236, 165), (6237, 167), (6238, 169), (6239, 165), (6240, 169), (6241, 167), (6242, 163), (6243, 171), (6244, 168), (6245, 172), (6246, 168), (6247, 171), (6248, 172), (6249, 181), (6250, 181), (6251, 151), (6252, 134)], ('T', 0, 17802): [(58, 12), (59, 239), (60, 15), (84, 24), (279, 13), (282, 26), (338, 20), (418, 17), (537, 214), (555, 126), (556, 128), (561, 19), (589, 222), (727, 43), (756, 172), (757, 110), (787, 17), (794, 130), (795, 186), (796, 167), (802, 17), (816, 49), (820, 47), (838, 19), (840, 36), (916, 31), (952, 13), (961, 20), (1005, 198), (1063, 89), (1066, 25), (1204, 23), (1207, 125), (1345, 78), (1420, 16), (1434, 21), (1468, 14), (1480, 114), (1497, 98), (1498, 140), (1522, 31), (1563, 207), (1684, 44), (1717, 31), (1740, 18), (1760, 146), (1761, 64), (1785, 36), (1808, 21), (1809, 21), (1849, 27), (1853, 17), (1856, 37), (1912, 22), (1924, 63), (1935, 29), (1955, 110), (1984, 132), (2039, 44), (2065, 15), (2066, 16), (2177, 245), (2204, 19), (2207, 19), (2210, 37), (2211, 55), (2232, 102), (2233, 69), (2234, 51), (2260, 21), (2282, 33), (2294, 172), (2298, 19), (2313, 75), (2354, 12), (2405, 34), (2408, 232), (2498, 17), (2525, 134), (2680, 37), (2909, 45), (2940, 167), (2986, 19), (2994, 46), (3017, 34), (3018, 103), (3060, 95), (3061, 65), (3080, 27), (3121, 18), (3127, 151), (3193, 20), (3194, 24), (3224, 60), (3225, 52), (3227, 34), (3234, 30), (3251, 49), (3252, 87), (3253, 47), (3266, 18), (3285, 150), (3288, 147), (3297, 15), (3338, 248), (3374, 215), (3386, 18), (3391, 96), (3404, 25), (3405, 15), (3408, 14), (3421, 17), (3423, 12), (3483, 33), (3512, 72), (3657, 143), (3660, 24), (3716, 40), (3736, 14), (3758, 23), (3759, 76), (3760, 187), (3784, 13), (3788, 93), (3789, 77), (3790, 30), (3791, 17), (3837, 26), (3849, 27), (3850, 29), (3851, 40), (3858, 122), (3874, 59), (3888, 16), (3901, 18), (3905, 42), (3906, 58), (3910, 42), (3911, 184), (3933, 13), (3934, 25), (3935, 193), (3942, 203), (3943, 48), (3944, 133), (3946, 15), (3959, 23), (4002, 254), (4056, 145), (4065, 14), (4066, 216), (4102, 38), (4103, 27), (4124, 31), (4125, 18), (4140, 12), (4188, 124), (4202, 20), (4212, 119), (4218, 28), (4220, 54), (4221, 31), (4244, 86), (4245, 14), (4272, 12), (4294, 12), (4321, 110), (4335, 108), (4341, 47), (4362, 25), (4424, 58), (4443, 64), (4463, 15), (4476, 146), (4482, 20), (4483, 37), (4486, 20), (4487, 163), (4525, 51), (4589, 13), (4598, 14), (4608, 48), (4609, 14), (4630, 44), (4632, 24), (4673, 40), (4688, 50), (4715, 19), (4745, 18), (4746, 32), (4747, 48), (4776, 16), (4793, 69), (4794, 21), (4866, 52), (4873, 32), (4906, 184), (4911, 120), (4912, 116), (4913, 39), (4914, 52), (4937, 153), (4938, 85), (4939, 17), (4969, 29), (4970, 40), (4975, 157), (4976, 36), (5023, 23), (5026, 14), (5065, 32), (5066, 20), (5073, 21), (5074, 12), (5105, 44), (5116, 16), (5117, 21), (5138, 36), (5173, 35), (5227, 87), (5228, 182), (5273, 21), (5304, 92), (5312, 12), (5322, 30), (5323, 12), (5347, 163), (5348, 195), (5349, 13), (5392, 36), (5411, 18), (5424, 30), (5437, 30), (5438, 12), (5442, 157), (5459, 178), (5474, 225), (5509, 36), (5515, 16), (5548, 26), (5549, 78), (5553, 44), (5596, 16), (5597, 50), (5598, 25), (5599, 25), (5602, 103), (5603, 169), (5604, 176), (5605, 82), (5641, 39), (5642, 183), (5643, 76), (5644, 13), (5655, 152), (5656, 68), (5682, 16), (5693, 97), (5714, 25), (5715, 129), (5716, 160), (5719, 20), (5757, 17), (5762, 14), (5771, 210), (5774, 49), (5803, 15), (5806, 192), (5810, 123), (5813, 117), (5842, 234), (5845, 179), (5849, 53), (5851, 27), (5877, 215), (5880, 84), (5884, 22), (5886, 13), (5895, 15), (5917, 227), (5920, 224), (5924, 29), (5926, 46), (5956, 213), (5959, 169), (5987, 59), (5992, 110), (6019, 145), (6022, 200), (6029, 20), (6030, 41), (6049, 221), (6054, 13), (6055, 17), (6056, 16), (6057, 18), (6058, 22), (6059, 37), (6060, 129), (6061, 80), (6062, 112), (6063, 93), (6094, 48), (6095, 84), (6135, 16), (6138, 93), (6225, 15)]}\n",
      "\n",
      "\n",
      "Reference index:\n",
      " 2228061 \n",
      " Probability of modification:\n",
      " 0.0703125\n"
     ]
    }
   ],
   "source": [
    "\n",
    "import pysam\n",
    "from pathlib import Path\n",
    "\n",
    "#Define a path\n",
    "bamfile_path = Path(\"./test_data/test.bam\")\n",
    "\n",
    "#Initialize the bamfile \n",
    "bamfile = pysam.AlignmentFile(bamfile_path, mode=\"rb\")\n",
    "\n",
    "#Initialize a second BAM/SAM file if you want to write on it\n",
    "\n",
    "\n",
    "#Run the for loop \n",
    "for read in bamfile.fetch(until_eof=True):\n",
    "    \n",
    "    #Print the read id \n",
    "    print(\"###Read id###\")\n",
    "    print(read.query_name)\n",
    "    print(\"\\n\")\n",
    "    \n",
    "    #Access the query sequence of the read\n",
    "    print(\"###Sequence###\")\n",
    "    print(read.query_sequence[0:100]) #First 100 nucleotides only\n",
    "    print(\"\\n\")\n",
    "    \n",
    "    #Access Cigartstring or a tuple version of the CIGAR string\n",
    "    print(\"###Cigatsring###\")\n",
    "    print(read.cigarstring[0:100]) #First 100 operations only\n",
    "    print(\"\\n\")\n",
    "    \n",
    "    print(\"###Cigartuple###\")\n",
    "    print(read.cigartuples[0:100]) #First 100 operations only\n",
    "    print(\"\\n\")\n",
    "    \n",
    "    #Access alignment pairs between query sequence and \n",
    "    print(\"###Aligment pairs between query and reference###\")\n",
    "    print(read.get_aligned_pairs()[0:100]) #First 100 operations only\n",
    "    print(\"\\n\")\n",
    "    \n",
    "    #Access read length\n",
    "    print(\"###Query Length###\")\n",
    "    print(read.query_length)\n",
    "    print(\"\\n\")\n",
    "    \n",
    "    #Access available modification information\n",
    "    print(\"###Modified bases###\")\n",
    "    print(read.modified_bases)\n",
    "    print(\"\\n\")\n",
    "    #The output of moddified bases is a dictionary, which carries a key being composed of three parts ('Modified Nucleotide',0,'Modification identifier')\n",
    "    #The value of the values in the dictionary is a list which stores the following information in tuples: (position_on_query, modification_probability)\n",
    "    #The modification probability is stored as a number between 0-256 (8-bit integer), which corresponds to a probability between 0-100%\n",
    "    #To align all modifications to the reference, one needs to transfer the position on the query to th position on the reference.\n",
    "    #The latter can be achieved by using the get_aligned_pairs function in combination with the modified_bases variable as shown below. \n",
    "    aligned_pairs = read.get_aligned_pairs(with_seq=True)\n",
    "    alignment_dict = {}\n",
    "    for pair_element in aligned_pairs:\n",
    "        if None not in pair_element:\n",
    "            alignment_dict[pair_element[0]] = {\"index_query\":pair_element[0],\"index_reference\":pair_element[1]}\n",
    "    #The transfer of the position on the reference can then be executed\n",
    "    modification_object = read.modified_bases\n",
    "    if modification_object != None:\n",
    "        m6a_modifications_on_read = list(modification_object[('A', 0, 'a')])\n",
    "        for m6a_modification in m6a_modifications_on_read: #m6a modification is the tuple element (position_on_query, modification_probability) \n",
    "            try:\n",
    "                index_on_reference = alignment_dict[m6a_modification[0]][\"index_reference\"]\n",
    "                probability_of_modification = m6a_modification[1] / 256\n",
    "                print(\"Reference index:\\n\",index_on_reference,\"\\n\", \"Probability of modification:\\n\",probability_of_modification)\n",
    "                #We will print only one base on this read for didactic reasons\n",
    "                break\n",
    "            except KeyError:\n",
    "                continue\n",
    "    #Explore the pysam documentation for more functions\n",
    "    break\n",
    "bamfile.close()"
   ]
  },
  {
   "cell_type": "markdown",
   "id": "1e6470cc",
   "metadata": {},
   "source": [
    "---\n",
    "# Cheat sheet modkit\n",
    "Fortunately there are tools like Oxford Nanopore Technologies' modkit, which already automatize such an extraction. The tool uses a rust library called htslib, which has similar functionalities to pysam, but even a bit faster.\n",
    "With Modkit the extraction about modification information is automatized and wrapped into a handy command line tool. \n",
    "\n",
    "## Modkit pileup\n",
    "\n"
   ]
  },
  {
   "cell_type": "code",
   "execution_count": 4,
   "id": "6186f2e1",
   "metadata": {},
   "outputs": [
    {
     "name": "stderr",
     "output_type": "stream",
     "text": [
      "> calculated chunk size: 6, interval size 100000, processing 600000 positions concurrently\n"
     ]
    },
    {
     "name": "stdout",
     "output_type": "stream",
     "text": [
      "  chromosome  start_position  end_position modified_base_code_and_motif  \\\n",
      "0       chr1         2228044       2228045                            a   \n",
      "1       chr1         2228048       2228049                            a   \n",
      "2       chr1         2228058       2228059                            a   \n",
      "3       chr1         2228061       2228062                            a   \n",
      "4       chr1         2228062       2228063                        17802   \n",
      "\n",
      "   score strand  start_position_again  end_position_again    color  \\\n",
      "0      1      +               2228044             2228045  255,0,0   \n",
      "1      4      +               2228048             2228049  255,0,0   \n",
      "2      6      +               2228058             2228059  255,0,0   \n",
      "3      4      +               2228061             2228062  255,0,0   \n",
      "4      6      +               2228062             2228063  255,0,0   \n",
      "\n",
      "   Nvalid_cov  percent_modified  Nmod  Ncanonical  Nother_mod  Ndelete  Nfail  \\\n",
      "0           1               0.0     0           1           0        0      3   \n",
      "1           4               0.0     0           4           0        1      1   \n",
      "2           6               0.0     0           6           0        0      1   \n",
      "3           4               0.0     0           4           0        0      3   \n",
      "4           6               0.0     0           6           0        1      0   \n",
      "\n",
      "   Ndiff  Nnocall  \n",
      "0      0        0  \n",
      "1      0        0  \n",
      "2      0        0  \n",
      "3      0        0  \n",
      "4      0        0  \n"
     ]
    },
    {
     "name": "stderr",
     "output_type": "stream",
     "text": [
      "> Done, processed 7972 rows. Processed ~814 reads and skipped zero reads.\n"
     ]
    }
   ],
   "source": [
    "import os\n",
    "#Modkit pileup creates a bed file with modification information\n",
    "bashCommand = \"modkit pileup --filter-threshold 0.95 ./test_data/test.bam ./test_data/test_pileup.bed --log-filepath test_data/test.log\"\n",
    "os.system(bashCommand)\n",
    "#The bed file can be read with pandas\n",
    "import pandas as pd\n",
    "bed_df = pd.read_csv(\"test_data/test_pileup.bed\", sep=\"\\t\", header=None)\n",
    "bed_df.columns = [\"chromosome\",\n",
    "                  \"start_position\",\n",
    "                  \"end_position\",\n",
    "                  \"modified_base_code_and_motif\",\n",
    "                  \"score\",\n",
    "                  \"strand\",\n",
    "                  \"start_position_again\",\n",
    "                  \"end_position_again\",\n",
    "                  \"color\", \n",
    "                  \"Nvalid_cov\", \n",
    "                  \"percent_modified\",\n",
    "                  \"Nmod\",\n",
    "                  \"Ncanonical\",\n",
    "                  \"Nother_mod\",\n",
    "                  \"Ndelete\",\n",
    "                  \"Nfail\",\n",
    "                  \"Ndiff\",\n",
    "                  \"Nnocall\"]\n",
    "#Print the first 5 lines of the bed file\n",
    "print(bed_df.head())\n",
    "\n",
    "#Please check all the options modkit pileup offers. \n",
    "#You can use different filter settings, which can tremendously \n",
    "# change the outcome of your analysis. "
   ]
  },
  {
   "cell_type": "markdown",
   "id": "8ad1dcc7",
   "metadata": {},
   "source": [
    "The generated Bedfile is a tab separated table carrying the following information:\n",
    "\n"
   ]
  },
  {
   "cell_type": "code",
   "execution_count": null,
   "id": "962e5e94",
   "metadata": {},
   "outputs": [],
   "source": [
    "#chromomose  start_position  end_position  modified_base_code_and_motif  score strand start_position end_position color Nvalid_cov percent_modified Nmod Ncanonical Nother_mod Ndelete Nfail Ndiff Nnocall"
   ]
  },
  {
   "cell_type": "markdown",
   "id": "371c811e",
   "metadata": {},
   "source": [
    "\n",
    "\n",
    "Definitions:\n",
    "- Nmod - Number of calls passing filters that were classified as a residue with a specified base modification.\n",
    "- Ncanonical - Number of calls passing filters were classified as the canonical base rather\n",
    "than modified. The exact base must be inferred by the modification code. For example, if the modification code is m (5mC) then the canonical base is cytosine. If the modification code is a , the canonical base is adenine.\n",
    "- Nother mod - Number of calls passing filters that were classified as modified, but where\n",
    "the modification is different from the listed base (and the corresponding canonical base is equal). For example, for a given cytosine there may be 3 reads with h calls, 1 with a canonical call, and 2 with m calls. In the bedMethyl row for h Nother_mod would\n",
    "be 2. In the m row Nother_mod would be 3.\n",
    "- Nvalid_cov - the valid coverage. Nvalid_cov = Nmod + Nother_mod + Ncanonical, also used as the score in the bedMethyl\n",
    "- Ndiff - Number of reads with a base other than the canonical base for this modification. For example, in a row for h the canonical base is cytosine, if there are 2 reads with C-A substitutions, Ndiff will be 2.\n",
    "- Ndelete - Number of reads with a deletion at this reference position\n",
    "- Nfail - Number of calls where the probability of the call was below the threshold. The\n",
    "threshold can be set on the command line or computed from the data (usually failing\n",
    "the lowest 10th percentile of calls).\n",
    "- Nnocall - Number of reads aligned to this reference position, with the correct canonical\n",
    "base, but without a base modification call. This can happen, for example, if the model requires a CpG dinucleotide and the read has a CG->CH substitution such that no modification call was produced by the basecaller.\n"
   ]
  },
  {
   "cell_type": "markdown",
   "id": "97357b0b",
   "metadata": {},
   "source": [
    "## Modkit summary\n",
    "\n",
    "The modkit summary sub-command is intended for collecting read-level statistics on either a sample of reads, a region, or an entire modBam. It is important to note that the default behavior of modkit summary is to take a sample of the reads to get a quick estimate."
   ]
  },
  {
   "cell_type": "code",
   "execution_count": null,
   "id": "e3d653be",
   "metadata": {},
   "outputs": [
    {
     "name": "stderr",
     "output_type": "stream",
     "text": [
      "> sampling 10042 reads from BAM\n",
      "> calculating threshold at 10(th) percentile\n",
      "> calculated thresholds: A: 0.6933594 T: 0.8261719\n"
     ]
    },
    {
     "data": {
      "text/plain": [
       "0"
      ]
     },
     "execution_count": 5,
     "metadata": {},
     "output_type": "execute_result"
    }
   ],
   "source": [
    "import os\n",
    "bashCommand = \"modkit summary ./test_data/test.bam > ./test_data/test_summary.tsv\"\n",
    "os.system(bashCommand)"
   ]
  },
  {
   "cell_type": "markdown",
   "id": "33f8343e",
   "metadata": {},
   "source": [
    "# Additional important python libraries\n",
    "\n",
    "Above we gave you all the information and tools you will need to solve the following investigations. You might also need to use some standard python tools like pandas, numpy and matplotlib to manipulate tables and plot some nice figures. \n",
    "Please visit the following documentations to get familiar with these libraries.\n",
    "\n",
    "- **pandas**:  \n",
    "  👉 [https://pandas.pydata.org/docs/user_guide/10min.html](https://pandas.pydata.org/docs/user_guide/10min.html)\n",
    "\n",
    "- **numpy**:  \n",
    "  👉 [https://numpy.org/devdocs/](https://numpy.org/devdocs/)\n",
    "  \n",
    "- **matplotlib**:  \n",
    "  👉 [https://matplotlib.org/stable/api/pyplot_summary.html](https://matplotlib.org/stable/api/pyplot_summary.html)"
   ]
  },
  {
   "cell_type": "markdown",
   "id": "f1270e0f",
   "metadata": {},
   "source": [
    "## Cheat sheet matplotlib"
   ]
  },
  {
   "cell_type": "code",
   "execution_count": 30,
   "id": "0175106b",
   "metadata": {},
   "outputs": [
    {
     "data": {
      "text/plain": [
       "<matplotlib.legend.Legend at 0x795e47490050>"
      ]
     },
     "execution_count": 30,
     "metadata": {},
     "output_type": "execute_result"
    },
    {
     "data": {
      "image/png": "[encoded data removed]",
      "text/plain": [
       "<Figure size 640x480 with 1 Axes>"
      ]
     },
     "metadata": {},
     "output_type": "display_data"
    }
   ],
   "source": [
    "import matplotlib.pyplot as plt\n",
    "\n",
    "x = [1,2,3,4,5,6,7,8,9]\n",
    "\n",
    "y = [0.1,0.2,0.3,0.4,0.5,0.6,0.7,0.8,0.9]\n",
    "\n",
    "y2 = [0.11,0.22,0.33,0.44,0.55,0.66,0.77,0.88,0.99]\n",
    "\n",
    "marker_sizes = [i*20 for i in x]\n",
    "\n",
    "#initiate a figure with one figure\n",
    "fig, ax = plt.subplots(nrows=1,ncols=1)\n",
    "ax.plot(x,y, color = \"green\", label=\"Expectation\")\n",
    "ax.scatter(x=x,y=y2,color = \"blue\",s=marker_sizes,marker=\"*\",label=\"Deviation\")\n",
    "ax.vlines(x=[3,7],ymin=0,ymax=1,colors=\"black\",linestyles=\"--\", label=\"Position of anticipated events\")\n",
    "ax.set_xlabel(\"Different Numbers\")\n",
    "ax.set_ylabel(\"Numbers divided by ten\")\n",
    "\n",
    "ax.legend()\n",
    "\n"
   ]
  },
  {
   "cell_type": "markdown",
   "id": "f5e841af",
   "metadata": {},
   "source": [
    "# Let's gain some experience ourselves !\n",
    "We gathered 3 samples of  a HEK293 control cell line and 3 samples of a UHRR cancer cell line and would like to investigate, if there are any significant changes in the modification landscape of specific cancer risk genes. Therefore, we aligned our datasets to the human reference genome hg38 and filtered the data for known cancer genes. \n",
    "\n",
    "During the course we would like you to select reads aligning to a specific cancer risk gene of your choice and investigate if there are significant changes in modifications at specific positions on those reads. \n",
    "\n",
    "Please notice that we do not know the outcome of these investigations, hence you are at the forefront of these investigations. \n",
    "\n",
    "## Tasks\n",
    "\n",
    "1) Please check out the following link ([https://seafile.rlp.net/d/554453c725a843d5bf05/](https://seafile.rlp.net/d/554453c725a843d5bf05/)) to download the different BAM file samples for the analysis. You should receive 3 HEK293 and 3 UHRR samples in BAM format. Please also download the .bam.bai files, since you will need them for step 3. Additionally you should find a file in bed format, which carries all Exon coordinates of the cancer genes we filtered for.\n",
    "\n",
    "2) Load the bed files as a pandas dataframe and try to find out which genes are included in the bed file. Select a gene of interest and continue with the next step. Please make sure not to take the same gene as other participants of the course. (Hint: try to use pandas unique function to find the names of the different genes)"
   ]
  },
  {
   "cell_type": "code",
   "execution_count": null,
   "id": "08c6eacd",
   "metadata": {},
   "outputs": [],
   "source": [
    "#Insert code for loading the bed reference here"
   ]
  },
  {
   "cell_type": "markdown",
   "id": "52fc7863",
   "metadata": {},
   "source": [
    "\n",
    "3) Open a console and activate the biomedical_practical_SS25 conda environment. Type \"igv\" into the console and a GUI with the integrative genome viewer (IGV) should appear. Select the human genome as reference on igv. Drag and drop the 6 BAM files into the genome viewer application. Once the files are loaded into igv search your gene of interest. (Hint: Check the link above for the documentation of IGV) Have a look on the coverage of the gene. \n",
    "- Does it seems like there is an even coverage ? \n",
    "- Do you observe any changes in coverage on different exons of the gene ? \n",
    "- Is there any systematic change in coverage over the whole construct visible ? \n",
    "- If yes could you make an educated guess, why the changes could occur from a biological point of view ? \n",
    "- Does your selected gene of interest show a reasonable coverage to make statistical predictions on it ? (Hint: Coverage over 20 is fine) \n",
    "- Before you continue make sure your gene has a higher coverage than 20 at a reasonable amount of exons. Not all exons must be necessarily covered well. "
   ]
  },
  {
   "cell_type": "markdown",
   "id": "ec465167",
   "metadata": {},
   "source": [
    "Please provide your answers to the questions here ->"
   ]
  },
  {
   "cell_type": "markdown",
   "id": "b1e39022",
   "metadata": {},
   "source": [
    "4) Retrieve all start an end coordinates fo all exons within you gene of interest. These coordinates ca be found in the dataframe you loaded in task 2. Filter the dataframe and assign the filtered version to a new variable. (Check the pandas documentation to filter dataframes with conditional commands)"
   ]
  },
  {
   "cell_type": "code",
   "execution_count": null,
   "id": "c2cec614",
   "metadata": {},
   "outputs": [],
   "source": [
    "#Insert code for filtering the bed reference here"
   ]
  },
  {
   "cell_type": "markdown",
   "id": "cf57cfcb",
   "metadata": {},
   "source": [
    "5) Run modkit on all 6 samples you downloaded in task 1 and store the output tables on your computer. Use a reasonable filter threshold to obtain the modification ratios. Read the ouput tables of modkit with pandas as shown in the modkit cheat sheet section and assign them to different variables. \n"
   ]
  },
  {
   "cell_type": "code",
   "execution_count": null,
   "id": "fbc735ea",
   "metadata": {},
   "outputs": [],
   "source": [
    "#Insert code to run modkit on the six bamfiles and load the output dataframes. "
   ]
  },
  {
   "cell_type": "markdown",
   "id": "c0919d75",
   "metadata": {},
   "source": [
    "6) Write a function which filters the dataframes to obtain all entries with coordinates covering a gene of interest using the reference bed and the input be file. The function should return the filtered dataframe. Run the function on all six samples.  \n"
   ]
  },
  {
   "cell_type": "code",
   "execution_count": null,
   "id": "a6b1040f",
   "metadata": {},
   "outputs": [],
   "source": [
    "#Insert code to filter your modkit output dataframe for coordinates covering the gene of interest. "
   ]
  },
  {
   "cell_type": "markdown",
   "id": "83710bd7",
   "metadata": {},
   "source": [
    "7) Reconstruct the gene of interest by concatenating the exons of the gene in a reasonable way and plot the modification ratios of the 6 samples as a lineplot with matplotlib. Colorcode the the samples by condition. Try to subsample the plot to positions, which seem to carry a modification over the gene of interest."
   ]
  },
  {
   "cell_type": "code",
   "execution_count": null,
   "id": "bafa8a28",
   "metadata": {},
   "outputs": [],
   "source": [
    "#Insert code to plot general modification ratios of the different samples "
   ]
  },
  {
   "cell_type": "markdown",
   "id": "a13107e4",
   "metadata": {},
   "source": [
    "8) Moreover it would be interesting to discriminate between modification of different types. Annotate the modification types of the different positions and include the information in the plot by using a method of your choice. "
   ]
  },
  {
   "cell_type": "code",
   "execution_count": null,
   "id": "9a5b3d28",
   "metadata": {},
   "outputs": [],
   "source": [
    "#Insert code to annotate different types of modifications on the plot. "
   ]
  }
 ],
 "metadata": {
  "kernelspec": {
   "display_name": "biomedical_practical_SS25",
   "language": "python",
   "name": "python3"
  },
  "language_info": {
   "codemirror_mode": {
    "name": "ipython",
    "version": 3
   },
   "file_extension": ".py",
   "mimetype": "text/x-python",
   "name": "python",
   "nbconvert_exporter": "python",
   "pygments_lexer": "ipython3",
   "version": "3.13.4"
  }
 },
 "nbformat": 4,
 "nbformat_minor": 5
}
